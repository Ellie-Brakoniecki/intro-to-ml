{
 "cells": [
  {
   "cell_type": "markdown",
   "metadata": {},
   "source": [
    "Titanic: Machine Learning from Disaster - Predict survival on the Titanic\n",
    "\n",
    "For further info on the kaggle competition see https://www.kaggle.com/c/titanic"
   ]
  },
  {
   "cell_type": "code",
   "execution_count": 6,
   "metadata": {},
   "outputs": [],
   "source": [
    "'''\n",
    "Import necessary libraries\n",
    "\n",
    "Note: First make sure you are in base conda and install sklearn  (pip install scikit-learn)\n",
    "\n",
    "Scikit-learn (sklearn) is a popular Python library used for predictive data analysis. It offers a wide range of supervised and unsupervised learning algorithms, \n",
    "including classification, regression, clustering, and dimensionality reduction. \n",
    "Sklearn is known for its clean API and seamless integration with NumPy and SciPy, making it a powerful tool for tasks like model fitting, preprocessing, and evaluation.\n",
    "'''\n",
    "\n",
    "import pandas as pd\n",
    "import numpy as np\n",
    "from sklearn.model_selection import train_test_split\n",
    "from sklearn.linear_model import LogisticRegression\n",
    "from sklearn.metrics import accuracy_score, confusion_matrix\n",
    "\n",
    "# Adjust console presentation of output\n",
    "pd.set_option('display.max_rows', 500)\n",
    "pd.set_option('display.max_columns', 500)\n",
    "pd.set_option('display.width', 1000)"
   ]
  },
  {
   "cell_type": "code",
   "execution_count": 7,
   "metadata": {},
   "outputs": [],
   "source": [
    "\n",
    "'''\n",
    "## Load the Data\n",
    "\n",
    "Start by loading our Titanic dataset. This dataset includes various information about passengers on the Titanic, \n",
    "including whether or not they survived, their class, their age, their fare, and more. \n",
    "We'll use this information to try to predict whether each passenger survived.\n",
    "\n",
    "In a real project, data might come from various sources and in various formats, and assembling it into a single dataset can be a significant part of the data preprocessing task.\n",
    "'''\n",
    "\n",
    "df = pd.read_csv('data/titanic_data.csv')"
   ]
  },
  {
   "cell_type": "code",
   "execution_count": 9,
   "metadata": {},
   "outputs": [
    {
     "data": {
      "text/html": [
       "<div>\n",
       "<style scoped>\n",
       "    .dataframe tbody tr th:only-of-type {\n",
       "        vertical-align: middle;\n",
       "    }\n",
       "\n",
       "    .dataframe tbody tr th {\n",
       "        vertical-align: top;\n",
       "    }\n",
       "\n",
       "    .dataframe thead th {\n",
       "        text-align: right;\n",
       "    }\n",
       "</style>\n",
       "<table border=\"1\" class=\"dataframe\">\n",
       "  <thead>\n",
       "    <tr style=\"text-align: right;\">\n",
       "      <th></th>\n",
       "      <th>Unnamed: 0</th>\n",
       "      <th>passenger_id</th>\n",
       "      <th>pclass</th>\n",
       "      <th>survived</th>\n",
       "      <th>name</th>\n",
       "      <th>sex</th>\n",
       "      <th>age</th>\n",
       "      <th>sibsp</th>\n",
       "      <th>parch</th>\n",
       "      <th>ticket</th>\n",
       "      <th>fare</th>\n",
       "      <th>cabin</th>\n",
       "      <th>embarked</th>\n",
       "      <th>home.dest</th>\n",
       "    </tr>\n",
       "  </thead>\n",
       "  <tbody>\n",
       "    <tr>\n",
       "      <th>0</th>\n",
       "      <td>0</td>\n",
       "      <td>1</td>\n",
       "      <td>1</td>\n",
       "      <td>1</td>\n",
       "      <td>Allen, Miss. Elisabeth Walton</td>\n",
       "      <td>female</td>\n",
       "      <td>29.0000</td>\n",
       "      <td>0</td>\n",
       "      <td>0</td>\n",
       "      <td>24160</td>\n",
       "      <td>211.3375</td>\n",
       "      <td>B5</td>\n",
       "      <td>S</td>\n",
       "      <td>St Louis, MO</td>\n",
       "    </tr>\n",
       "    <tr>\n",
       "      <th>1</th>\n",
       "      <td>1</td>\n",
       "      <td>2</td>\n",
       "      <td>1</td>\n",
       "      <td>1</td>\n",
       "      <td>Allison, Master. Hudson Trevor</td>\n",
       "      <td>male</td>\n",
       "      <td>0.9167</td>\n",
       "      <td>1</td>\n",
       "      <td>2</td>\n",
       "      <td>113781</td>\n",
       "      <td>151.5500</td>\n",
       "      <td>C22 C26</td>\n",
       "      <td>S</td>\n",
       "      <td>Montreal, PQ / Chesterville, ON</td>\n",
       "    </tr>\n",
       "    <tr>\n",
       "      <th>2</th>\n",
       "      <td>2</td>\n",
       "      <td>3</td>\n",
       "      <td>1</td>\n",
       "      <td>0</td>\n",
       "      <td>Allison, Miss. Helen Loraine</td>\n",
       "      <td>female</td>\n",
       "      <td>2.0000</td>\n",
       "      <td>1</td>\n",
       "      <td>2</td>\n",
       "      <td>113781</td>\n",
       "      <td>151.5500</td>\n",
       "      <td>C22 C26</td>\n",
       "      <td>S</td>\n",
       "      <td>Montreal, PQ / Chesterville, ON</td>\n",
       "    </tr>\n",
       "    <tr>\n",
       "      <th>3</th>\n",
       "      <td>3</td>\n",
       "      <td>4</td>\n",
       "      <td>1</td>\n",
       "      <td>0</td>\n",
       "      <td>Allison, Mr. Hudson Joshua Creighton</td>\n",
       "      <td>male</td>\n",
       "      <td>30.0000</td>\n",
       "      <td>1</td>\n",
       "      <td>2</td>\n",
       "      <td>113781</td>\n",
       "      <td>151.5500</td>\n",
       "      <td>C22 C26</td>\n",
       "      <td>S</td>\n",
       "      <td>Montreal, PQ / Chesterville, ON</td>\n",
       "    </tr>\n",
       "    <tr>\n",
       "      <th>4</th>\n",
       "      <td>4</td>\n",
       "      <td>5</td>\n",
       "      <td>1</td>\n",
       "      <td>0</td>\n",
       "      <td>Allison, Mrs. Hudson J C (Bessie Waldo Daniels)</td>\n",
       "      <td>female</td>\n",
       "      <td>25.0000</td>\n",
       "      <td>1</td>\n",
       "      <td>2</td>\n",
       "      <td>113781</td>\n",
       "      <td>151.5500</td>\n",
       "      <td>C22 C26</td>\n",
       "      <td>S</td>\n",
       "      <td>Montreal, PQ / Chesterville, ON</td>\n",
       "    </tr>\n",
       "  </tbody>\n",
       "</table>\n",
       "</div>"
      ],
      "text/plain": [
       "   Unnamed: 0  passenger_id  pclass  survived                                             name     sex      age  sibsp  parch  ticket      fare    cabin embarked                        home.dest\n",
       "0           0             1       1         1                    Allen, Miss. Elisabeth Walton  female  29.0000      0      0   24160  211.3375       B5        S                     St Louis, MO\n",
       "1           1             2       1         1                   Allison, Master. Hudson Trevor    male   0.9167      1      2  113781  151.5500  C22 C26        S  Montreal, PQ / Chesterville, ON\n",
       "2           2             3       1         0                     Allison, Miss. Helen Loraine  female   2.0000      1      2  113781  151.5500  C22 C26        S  Montreal, PQ / Chesterville, ON\n",
       "3           3             4       1         0             Allison, Mr. Hudson Joshua Creighton    male  30.0000      1      2  113781  151.5500  C22 C26        S  Montreal, PQ / Chesterville, ON\n",
       "4           4             5       1         0  Allison, Mrs. Hudson J C (Bessie Waldo Daniels)  female  25.0000      1      2  113781  151.5500  C22 C26        S  Montreal, PQ / Chesterville, ON"
      ]
     },
     "execution_count": 9,
     "metadata": {},
     "output_type": "execute_result"
    }
   ],
   "source": [
    "'''\n",
    "## Initial Data Exploration\n",
    "\n",
    "Now that we have loaded our data, the first step is to explore it and understand what we're working with. \n",
    "We'll check out the first few rows of our dataframe, look at the summary statistics, and see what data types we have.\n",
    "'''\n",
    "\n",
    "df.head()"
   ]
  },
  {
   "cell_type": "code",
   "execution_count": 10,
   "metadata": {},
   "outputs": [
    {
     "data": {
      "text/html": [
       "<div>\n",
       "<style scoped>\n",
       "    .dataframe tbody tr th:only-of-type {\n",
       "        vertical-align: middle;\n",
       "    }\n",
       "\n",
       "    .dataframe tbody tr th {\n",
       "        vertical-align: top;\n",
       "    }\n",
       "\n",
       "    .dataframe thead th {\n",
       "        text-align: right;\n",
       "    }\n",
       "</style>\n",
       "<table border=\"1\" class=\"dataframe\">\n",
       "  <thead>\n",
       "    <tr style=\"text-align: right;\">\n",
       "      <th></th>\n",
       "      <th>Unnamed: 0</th>\n",
       "      <th>passenger_id</th>\n",
       "      <th>pclass</th>\n",
       "      <th>survived</th>\n",
       "      <th>age</th>\n",
       "      <th>sibsp</th>\n",
       "      <th>parch</th>\n",
       "      <th>fare</th>\n",
       "    </tr>\n",
       "  </thead>\n",
       "  <tbody>\n",
       "    <tr>\n",
       "      <th>count</th>\n",
       "      <td>1309.000000</td>\n",
       "      <td>1309.000000</td>\n",
       "      <td>1309.000000</td>\n",
       "      <td>1309.000000</td>\n",
       "      <td>1046.000000</td>\n",
       "      <td>1309.000000</td>\n",
       "      <td>1309.000000</td>\n",
       "      <td>1308.000000</td>\n",
       "    </tr>\n",
       "    <tr>\n",
       "      <th>mean</th>\n",
       "      <td>654.000000</td>\n",
       "      <td>655.000000</td>\n",
       "      <td>2.294882</td>\n",
       "      <td>0.381971</td>\n",
       "      <td>29.881135</td>\n",
       "      <td>0.498854</td>\n",
       "      <td>0.385027</td>\n",
       "      <td>33.295479</td>\n",
       "    </tr>\n",
       "    <tr>\n",
       "      <th>std</th>\n",
       "      <td>378.020061</td>\n",
       "      <td>378.020061</td>\n",
       "      <td>0.837836</td>\n",
       "      <td>0.486055</td>\n",
       "      <td>14.413500</td>\n",
       "      <td>1.041658</td>\n",
       "      <td>0.865560</td>\n",
       "      <td>51.758668</td>\n",
       "    </tr>\n",
       "    <tr>\n",
       "      <th>min</th>\n",
       "      <td>0.000000</td>\n",
       "      <td>1.000000</td>\n",
       "      <td>1.000000</td>\n",
       "      <td>0.000000</td>\n",
       "      <td>0.166700</td>\n",
       "      <td>0.000000</td>\n",
       "      <td>0.000000</td>\n",
       "      <td>0.000000</td>\n",
       "    </tr>\n",
       "    <tr>\n",
       "      <th>25%</th>\n",
       "      <td>327.000000</td>\n",
       "      <td>328.000000</td>\n",
       "      <td>2.000000</td>\n",
       "      <td>0.000000</td>\n",
       "      <td>21.000000</td>\n",
       "      <td>0.000000</td>\n",
       "      <td>0.000000</td>\n",
       "      <td>7.895800</td>\n",
       "    </tr>\n",
       "    <tr>\n",
       "      <th>50%</th>\n",
       "      <td>654.000000</td>\n",
       "      <td>655.000000</td>\n",
       "      <td>3.000000</td>\n",
       "      <td>0.000000</td>\n",
       "      <td>28.000000</td>\n",
       "      <td>0.000000</td>\n",
       "      <td>0.000000</td>\n",
       "      <td>14.454200</td>\n",
       "    </tr>\n",
       "    <tr>\n",
       "      <th>75%</th>\n",
       "      <td>981.000000</td>\n",
       "      <td>982.000000</td>\n",
       "      <td>3.000000</td>\n",
       "      <td>1.000000</td>\n",
       "      <td>39.000000</td>\n",
       "      <td>1.000000</td>\n",
       "      <td>0.000000</td>\n",
       "      <td>31.275000</td>\n",
       "    </tr>\n",
       "    <tr>\n",
       "      <th>max</th>\n",
       "      <td>1308.000000</td>\n",
       "      <td>1309.000000</td>\n",
       "      <td>3.000000</td>\n",
       "      <td>1.000000</td>\n",
       "      <td>80.000000</td>\n",
       "      <td>8.000000</td>\n",
       "      <td>9.000000</td>\n",
       "      <td>512.329200</td>\n",
       "    </tr>\n",
       "  </tbody>\n",
       "</table>\n",
       "</div>"
      ],
      "text/plain": [
       "        Unnamed: 0  passenger_id       pclass     survived          age        sibsp        parch         fare\n",
       "count  1309.000000   1309.000000  1309.000000  1309.000000  1046.000000  1309.000000  1309.000000  1308.000000\n",
       "mean    654.000000    655.000000     2.294882     0.381971    29.881135     0.498854     0.385027    33.295479\n",
       "std     378.020061    378.020061     0.837836     0.486055    14.413500     1.041658     0.865560    51.758668\n",
       "min       0.000000      1.000000     1.000000     0.000000     0.166700     0.000000     0.000000     0.000000\n",
       "25%     327.000000    328.000000     2.000000     0.000000    21.000000     0.000000     0.000000     7.895800\n",
       "50%     654.000000    655.000000     3.000000     0.000000    28.000000     0.000000     0.000000    14.454200\n",
       "75%     981.000000    982.000000     3.000000     1.000000    39.000000     1.000000     0.000000    31.275000\n",
       "max    1308.000000   1309.000000     3.000000     1.000000    80.000000     8.000000     9.000000   512.329200"
      ]
     },
     "execution_count": 10,
     "metadata": {},
     "output_type": "execute_result"
    }
   ],
   "source": [
    "df.describe()"
   ]
  },
  {
   "cell_type": "code",
   "execution_count": 11,
   "metadata": {},
   "outputs": [
    {
     "name": "stdout",
     "output_type": "stream",
     "text": [
      "<class 'pandas.core.frame.DataFrame'>\n",
      "RangeIndex: 1309 entries, 0 to 1308\n",
      "Data columns (total 14 columns):\n",
      " #   Column        Non-Null Count  Dtype  \n",
      "---  ------        --------------  -----  \n",
      " 0   Unnamed: 0    1309 non-null   int64  \n",
      " 1   passenger_id  1309 non-null   int64  \n",
      " 2   pclass        1309 non-null   int64  \n",
      " 3   survived      1309 non-null   int64  \n",
      " 4   name          1309 non-null   object \n",
      " 5   sex           1309 non-null   object \n",
      " 6   age           1046 non-null   float64\n",
      " 7   sibsp         1309 non-null   int64  \n",
      " 8   parch         1309 non-null   int64  \n",
      " 9   ticket        1309 non-null   object \n",
      " 10  fare          1308 non-null   float64\n",
      " 11  cabin         295 non-null    object \n",
      " 12  embarked      1307 non-null   object \n",
      " 13  home.dest     745 non-null    object \n",
      "dtypes: float64(2), int64(6), object(6)\n",
      "memory usage: 143.3+ KB\n"
     ]
    }
   ],
   "source": [
    "df.info()"
   ]
  },
  {
   "cell_type": "markdown",
   "metadata": {},
   "source": [
    "There are a number of variables within this dataset:\n",
    "* pclass = Passenger class of travel.\n",
    "* survived = 1 if the passenger survived the sinking, 0 if not.\n",
    "* name = Full name of the passenger, including title.\n",
    "* sex = Passenger gender.\n",
    "* age = Passenger age.\n",
    "* sibsp = Count of siblings or spouse also aboard.\n",
    "* Parch = Count of parents or children also aboard.\n",
    "* ticket = Ticket reference.\n",
    "* fare = Fare paid.\n",
    "* cabin = Cabin number.\n",
    "* embarked = Port of embarkation. (S = Southampton (UK); C = Cherbourg (France); Q = Queenstown (Cobh, Ireland))"
   ]
  },
  {
   "cell_type": "code",
   "execution_count": 14,
   "metadata": {},
   "outputs": [],
   "source": [
    "'''\n",
    "## Data Preprocessing and Feature Engineering\n",
    "\n",
    "In this basic example, we're going to fill missing numerical data with the median value and drop all other missing values. \n",
    "In a more complex scenario, you might use more sophisticated techniques to handle missing values, \n",
    "like filling in missing values based on other data or using a machine learning algorithm to predict them.\n",
    "\n",
    "Feature engineering is the process of creating new features or modifying existing ones to improve model performance. \n",
    "In this example, we won't be doing any complex feature engineering, but it's an important step in many machine learning projects.\n",
    "'''\n",
    "\n",
    "numeric_cols = df.select_dtypes(include=[np.number]).columns\n",
    "df[numeric_cols] = df[numeric_cols].fillna(df[numeric_cols].median())\n",
    "\n",
    "# After filling numeric columns, can drop rows with missing data in any (non-numeric) column:\n",
    "df.dropna(inplace=True)"
   ]
  },
  {
   "cell_type": "code",
   "execution_count": 15,
   "metadata": {},
   "outputs": [],
   "source": [
    "'''\n",
    "## Train-Test Split\n",
    "\n",
    "Before we start building our model, we'll split our data into a training set and a test set. \n",
    "This allows us to evaluate our model's performance on unseen data, which gives us a sense of how well our model is likely to perform on new data in the future.\n",
    "\n",
    "We're using a 70/30 split for our data, meaning 70% of our data will go to the training set and 30% will go to the test set.\n",
    "\n",
    "Also, we will be handling the categorical variables in our features. In the Titanic dataset, 'sex' and 'embarked' are categorical variables. \n",
    "'Sex' can have 'male' or 'female' as values and 'embarked' can have 'C', 'Q', or 'S'. \n",
    "\n",
    "To make these usable in our model, we use a technique called one-hot encoding, which creates new columns for each unique category in each categorical variable. \n",
    "For each record, the column corresponding to its category will have a value of 1, and all other created columns will have values of 0.\n",
    "\n",
    "We perform one-hot encoding using the pandas function `get_dummies()`. \n",
    "When used on a DataFrame, `get_dummies()` only converts the object or category dtype columns, and leaves the numerical columns as they are. \n",
    "So in our case, it will create dummy variables for 'sex' and 'embarked', while leaving 'pclass', 'age', 'sibsp', 'parch', and 'fare' unchanged.\n",
    "\n",
    "In the following code:\n",
    "- `X` represents our features or independent variables. This is the data that the model will learn from.\n",
    "- `y` represents our target variable or dependent variable, which in this case is 'survived'. This is the outcome we are trying to predict.\n",
    "\n",
    "We use the function `train_test_split` from the sklearn library to create our training and testing sets. \n",
    "We set a random seed (random_state=42) to ensure that the splits generate the same way each time we run the code.\n",
    "'''\n",
    "\n",
    "# Selecting features and target variable\n",
    "features = ['pclass', 'sex', 'age', 'sibsp', 'parch', 'fare', 'embarked']\n",
    "X = pd.get_dummies(df[features])\n",
    "y = df['survived']\n",
    "\n",
    "X_train, X_test, y_train, y_test = train_test_split(X, y, test_size=0.3, random_state=42) # use a random seed so we can reproduce the results "
   ]
  },
  {
   "cell_type": "code",
   "execution_count": 17,
   "metadata": {},
   "outputs": [
    {
     "data": {
      "text/plain": [
       "LogisticRegression(max_iter=1000)"
      ]
     },
     "execution_count": 17,
     "metadata": {},
     "output_type": "execute_result"
    }
   ],
   "source": [
    "'''\n",
    "## Model Selection and Training\n",
    "\n",
    "Now that we've prepared our data, we can build our model. In this example, we're going to use Logistic Regression, which is a good starting point for binary classification problems like this one. \n",
    "\n",
    "In a more complex project, you might try several different models, compare their performance, and even combine them into an ensemble model. You might also use techniques like cross-validation to get a better estimate of your model's performance.\n",
    "'''\n",
    "\n",
    "model = LogisticRegression(max_iter=1000)  # default is 100\n",
    "model.fit(X_train, y_train)"
   ]
  },
  {
   "cell_type": "code",
   "execution_count": 21,
   "metadata": {},
   "outputs": [
    {
     "name": "stdout",
     "output_type": "stream",
     "text": [
      "Accuracy: 0.7948717948717948\n",
      "Confusion Matrix:\n",
      "[[22  5]\n",
      " [11 40]]\n"
     ]
    }
   ],
   "source": [
    "'''\n",
    "## Model Evaluation\n",
    "\n",
    "Finally, we're going to evaluate our model. We'll use accuracy as our metric, which tells us the proportion of passengers for whom our model correctly predicted their survival. \n",
    "\n",
    "In different scenarios, other metrics may be more appropriate. For example, in a problem with imbalanced classes, precision, recall, or the F1 score might be a better measure of performance.\n",
    "'''\n",
    "\n",
    "y_pred = model.predict(X_test)\n",
    "print('Accuracy:', accuracy_score(y_test, y_pred))\n",
    "print('Confusion Matrix:')\n",
    "print(confusion_matrix(y_test, y_pred))\n"
   ]
  },
  {
   "cell_type": "markdown",
   "metadata": {},
   "source": [
    "Accuracy is a measure of overall model performance. Accuracy is defined as the number of correct predictions (both positive and negative) divided by the total number of predictions. \n",
    "In this case, the accuracy is approximately 0.795 or 79.5%, which means the model correctly predicted 79.5% of the cases.\n",
    "\n",
    "Confusion Matrix: This is a 2x2 matrix used for binary classification that describes the performance of a classification model. \n",
    "True Negatives (TN): The classifier correctly predicted 22 negatives (predicted that they would not occur, and they did not occur).\n",
    "False Positives (FP): The classifier incorrectly predicted 5 positives (predicted that they would occur, but they did not occur).\n",
    "False Negatives (FN): The classifier incorrectly predicted 11 negatives (predicted that they would not occur, but they did occur).\n",
    "True Positives (TP): The classifier correctly predicted 40 positives (predicted that they would occur, and they did occur)."
   ]
  },
  {
   "cell_type": "markdown",
   "metadata": {},
   "source": [
    "'''\n",
    "## Hands on Learning\n",
    "\n",
    "Now that we've gone through the process of building and evaluating a basic logistic regression model on the Titanic dataset, \n",
    "it's time for some hands-on practice!\n",
    "'''"
   ]
  },
  {
   "cell_type": "markdown",
   "metadata": {},
   "source": [
    "## Task 1: Try different classification models \n",
    "Try using a different classification model, such as a Decision Tree or Random Forest, and compare the performance with the Logistic Regression model.\n",
    "How to do it: Import the new model from sklearn, train it on the training data, make predictions on the test data, and compute the accuracy like before."
   ]
  },
  {
   "cell_type": "code",
   "execution_count": null,
   "metadata": {},
   "outputs": [],
   "source": [
    "# required libraries for these models:\n",
    "from sklearn.tree import DecisionTreeClassifier\n",
    "from sklearn.ensemble import RandomForestClassifier"
   ]
  },
  {
   "cell_type": "code",
   "execution_count": 26,
   "metadata": {},
   "outputs": [
    {
     "data": {
      "text/plain": [
       "'\\n## Make Predictions and Evaluate the Decision Tree Model\\n\\nWith our Decision Tree model trained, we can now make predictions on our test data. We will compare these predictions with the actual outcomes to evaluate the performance of our model. \\n'"
      ]
     },
     "execution_count": 26,
     "metadata": {},
     "output_type": "execute_result"
    }
   ],
   "source": [
    "'''\n",
    "## Task: Train a Decision Tree Model\n",
    "\n",
    "We will now train a Decision Tree classifier on our data. The process is similar to how we trained our Logistic Regression model: we create the model, then fit it on our training data. \n",
    "'''\n",
    "\n",
    "# Create an instance of DecisionTreeClassifier\n",
    "\n",
    "\n",
    "# Fit the model on the training data\n",
    "\n",
    "\n",
    "'''\n",
    "## Make Predictions and Evaluate the Decision Tree Model\n",
    "\n",
    "With our Decision Tree model trained, we can now make predictions on our test data. We will compare these predictions with the actual outcomes to evaluate the performance of our model. \n",
    "'''\n",
    "\n",
    "# Make predictions on the test set\n",
    "\n",
    "\n",
    "# Calculate the accuracy of the Decision Tree model\n",
    "\n",
    "\n",
    "# Print the accuracy of the Decision Tree model\n",
    "\n",
    "\n",
    "# Print the confusion matrix of the Decision Tree model\n",
    "\n"
   ]
  },
  {
   "cell_type": "code",
   "execution_count": 27,
   "metadata": {},
   "outputs": [
    {
     "data": {
      "text/plain": [
       "'\\n## Make Predictions and Evaluate the Random Forest Model\\n\\nWith our Random Forest model trained, we can now make predictions on our test data and evaluate its performance.\\n'"
      ]
     },
     "execution_count": 27,
     "metadata": {},
     "output_type": "execute_result"
    }
   ],
   "source": [
    "\n",
    "\n",
    "'''\n",
    "## Task: Train a Random Forest Model\n",
    "\n",
    "Now we will train a Random Forest classifier on our data. Again, the process is similar to our previous models.\n",
    "'''\n",
    "\n",
    "# Create an instance of RandomForestClassifier\n",
    "\n",
    "\n",
    "# Fit the model on the training data\n",
    "\n",
    "\n",
    "'''\n",
    "## Make Predictions and Evaluate the Random Forest Model\n",
    "\n",
    "With our Random Forest model trained, we can now make predictions on our test data and evaluate its performance.\n",
    "'''\n",
    "\n",
    "# Make predictions on the test set\n",
    "\n",
    "\n",
    "# Calculate the accuracy of the Random Forest model\n",
    "\n",
    "\n",
    "# Print the accuracy of the Random Forest model\n",
    "\n",
    "\n",
    "# Print the confusion matrix of the Random Forest model\n",
    "\n"
   ]
  },
  {
   "cell_type": "markdown",
   "metadata": {},
   "source": [
    "## Task 2: Feature Engineering\n",
    "Feature engineering is the process of using domain knowledge to create new features from the existing ones, with the goal of improving the performance of our machine learning model. \n",
    "It's a critical step in any data science project, and has the potential to significantly improve our model's predictive power.\n",
    "\n",
    "Our current model uses the following features: passenger class (pclass), sex, age, number of siblings/spouses aboard (sibsp), number of parents/children aboard (parch), fare, and port of embarkation (embarked). But we have more information available in our dataset that we could potentially use to create new features.\n",
    "\n",
    "For example, from the name column, we could extract titles like 'Mr', 'Mrs', 'Miss', etc. which might provide information about the passenger's social status, and in turn, their likelihood of survival.\n",
    "\n",
    "Another example would be combining sibsp and parch into a single feature that represents the total size of the family aboard.\n",
    "\n",
    "Try out some feature engineering ideas. Specifically, create a 'Title' feature and a 'Family Size' feature, include them in your model, and see how they impact the model's performance.\n",
    "\n",
    "'''"
   ]
  },
  {
   "cell_type": "code",
   "execution_count": 32,
   "metadata": {},
   "outputs": [],
   "source": [
    "# Create 'Family Size' feature\n",
    "df['family_size'] = df['sibsp'] + df['parch'] + 1  # +1 to include the passenger themselves\n",
    "\n",
    "# Include 'family_size' in your features and train your model\n",
    "\n",
    "\n",
    "\n",
    "# Fit the model\n",
    "\n",
    "\n",
    "# Predict and evaluate performance\n",
    "\n",
    "\n"
   ]
  },
  {
   "cell_type": "code",
   "execution_count": 33,
   "metadata": {},
   "outputs": [
    {
     "name": "stdout",
     "output_type": "stream",
     "text": [
      "Mr          120\n",
      "Mrs          72\n",
      "Miss         42\n",
      "Master        8\n",
      "Dr            4\n",
      "Col           3\n",
      "Major         2\n",
      "Mme           1\n",
      "Capt          1\n",
      "Lady          1\n",
      "Sir           1\n",
      "Mlle          1\n",
      "Countess      1\n",
      "Name: title, dtype: int64\n"
     ]
    }
   ],
   "source": [
    "# Extract the title from the name\n",
    "df['title'] = df['name'].str.extract(' ([A-Za-z]+)\\.', expand=False)\n",
    "\n",
    "# Check the counts of each unique title\n",
    "print(df['title'].value_counts())\n",
    "\n",
    "# You might want to combine some of the rare titles together or with more common ones\n",
    "df['title'] = df['title'].replace(['Lady', 'Countess','Capt', 'Col', 'Don', 'Dr', 'Major', 'Rev', 'Sir', 'Jonkheer', 'Dona'], 'Rare')\n",
    "df['title'] = df['title'].replace('Mlle', 'Miss')\n",
    "df['title'] = df['title'].replace('Ms', 'Miss')\n",
    "df['title'] = df['title'].replace('Mme', 'Mrs')\n",
    "\n",
    "# Now, include 'title' in your features, perform one-hot encoding, and train your model\n",
    "\n",
    "\n",
    "\n",
    "\n",
    "# Fit the model\n",
    "\n",
    "# Predict and evaluate performance\n",
    "\n"
   ]
  },
  {
   "cell_type": "code",
   "execution_count": 34,
   "metadata": {},
   "outputs": [
    {
     "name": "stdout",
     "output_type": "stream",
     "text": [
      "Accuracy: 0.782051282051282\n"
     ]
    }
   ],
   "source": [
    "# Select only a subset of features\n",
    "features = ['pclass', 'sex', 'age', 'fare', 'title']\n",
    "\n",
    "# Train your model using only these features\n",
    "X = pd.get_dummies(df[features])\n",
    "X_train, X_test, y_train, y_test = train_test_split(X, y, test_size=0.3, random_state=42)\n",
    "\n",
    "# Fit the model\n",
    "model = LogisticRegression(max_iter=1000)\n",
    "model.fit(X_train, y_train)\n",
    "\n",
    "# Predict and evaluate performance\n",
    "y_pred = model.predict(X_test)\n",
    "print('Accuracy:', accuracy_score(y_test, y_pred))\n"
   ]
  },
  {
   "cell_type": "markdown",
   "metadata": {},
   "source": [
    "For further investigation and looking into which features are most important and the distributions of features good resources are here:\n",
    "\n",
    " https://towardsdatascience.com/predicting-the-survival-of-titanic-passengers-30870ccc7e8\n",
    " https://towardsdatascience.com/machine-learning-with-the-titanic-dataset-7f6909e58280"
   ]
  }
 ],
 "metadata": {
  "kernelspec": {
   "display_name": "Python 3.9.7 ('base')",
   "language": "python",
   "name": "python3"
  },
  "language_info": {
   "codemirror_mode": {
    "name": "ipython",
    "version": 3
   },
   "file_extension": ".py",
   "mimetype": "text/x-python",
   "name": "python",
   "nbconvert_exporter": "python",
   "pygments_lexer": "ipython3",
   "version": "3.9.7"
  },
  "orig_nbformat": 4,
  "vscode": {
   "interpreter": {
    "hash": "caf831573a0ff294614842876d2763885d6da16fb80bd95fae4076843946dd1d"
   }
  }
 },
 "nbformat": 4,
 "nbformat_minor": 2
}
